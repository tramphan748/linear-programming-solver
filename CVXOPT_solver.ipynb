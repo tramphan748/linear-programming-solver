{
  "nbformat": 4,
  "nbformat_minor": 0,
  "metadata": {
    "colab": {
      "provenance": []
    },
    "kernelspec": {
      "name": "python3",
      "display_name": "Python 3"
    },
    "language_info": {
      "name": "python"
    }
  },
  "cells": [
    {
      "cell_type": "code",
      "source": [
        "from cvxopt import matrix, solvers\n",
        "import numpy as np"
      ],
      "metadata": {
        "id": "vyWNaZRfPJTH"
      },
      "execution_count": 1,
      "outputs": []
    },
    {
      "cell_type": "markdown",
      "source": [
        "# Nhập hàm chuẩn, in ra giá trị tối ưu và nghiệm tối ưu"
      ],
      "metadata": {
        "id": "CXh1GAsHuvxQ"
      }
    },
    {
      "cell_type": "code",
      "source": [
        "def input_matrix():\n",
        "\n",
        "  # input matrix c: hàm mục tiêu\n",
        "  print(\"Input matrix c: \")\n",
        "  row_c = int(input(\"Enter the number of rows of matrix c:\"))\n",
        "  print(\"Enter the entries in a single column (separated by space): \")\n",
        "  c = list(map(float, input().split()))\n",
        "  matrix_c = matrix(c, (row_c, 1)) # Directly create cvxopt matrix\n",
        "  print(f'matrix c is:\\n {matrix_c}\\n')\n",
        "\n",
        "  # input matrix A\n",
        "  print(\"Input matrix A: \")\n",
        "  row_A = int(input(\"Enter the number of rows of matrix A:\"))\n",
        "  col_A = int(input(\"Enter the number of columns of matrix A:\"))\n",
        "  print(\"Enter the entries in a single column (separated by space): \")\n",
        "  A = list(map(float, input().split()))\n",
        "  matrix_A = matrix(A, (row_A, col_A)) # Directly create cvxopt matrix\n",
        "  print(f'matrix A is:\\n {matrix_A}\\n')\n",
        "\n",
        "  # input matrix b: contrains\n",
        "  print(\"Input matrix b: \")\n",
        "  row_b = int(input(\"Enter the number of rows of matrix b:\"))\n",
        "  print(\"Enter the entries in a single column (separated by space): \")\n",
        "  # col_b = int(input(\"Enter the number of columns of matrix b:\"))\n",
        "  b = list(map(float, input().split()))\n",
        "  matrix_b = matrix(b, (row_b, 1)) # Directly create cvxopt matrix\n",
        "  print(f'matrix b is:\\n {matrix_b}\\n')\n",
        "  return matrix_c, matrix_A, matrix_b\n",
        "\n",
        "matrix_c, matrix_A, matrix_b = input_matrix()\n",
        "# print(f'matrix c is:\\n{matrix_c}\\n')\n",
        "# print(f'matrix A is:\\n{matrix_A}\\n')\n",
        "# print(f'matrix b is:\\n{matrix_b}\\n')\n"
      ],
      "metadata": {
        "colab": {
          "base_uri": "https://localhost:8080/"
        },
        "id": "5fx7IhA2U-V7",
        "outputId": "93c835ae-9a61-423a-c399-332b0bb521d8"
      },
      "execution_count": 2,
      "outputs": [
        {
          "output_type": "stream",
          "name": "stdout",
          "text": [
            "Input matrix c: \n",
            "Enter the number of rows of matrix c:4\n",
            "Enter the entries in a single column (separated by space): \n",
            "-1 -2 -3 -4\n",
            "matrix c is:\n",
            " [-1.00e+00]\n",
            "[-2.00e+00]\n",
            "[-3.00e+00]\n",
            "[-4.00e+00]\n",
            "\n",
            "\n",
            "Input matrix A: \n",
            "Enter the number of rows of matrix A:6\n",
            "Enter the number of columns of matrix A:4\n",
            "Enter the entries in a single column (separated by space): \n",
            "4 1 -1 0 0 0 9 1 0 -1 0 0 7 3 0 0 -1 0 10 4 0 0 0 -1\n",
            "matrix A is:\n",
            " [ 4.00e+00  9.00e+00  7.00e+00  1.00e+01]\n",
            "[ 1.00e+00  1.00e+00  3.00e+00  4.00e+00]\n",
            "[-1.00e+00  0.00e+00  0.00e+00  0.00e+00]\n",
            "[ 0.00e+00 -1.00e+00  0.00e+00  0.00e+00]\n",
            "[ 0.00e+00  0.00e+00 -1.00e+00  0.00e+00]\n",
            "[ 0.00e+00  0.00e+00  0.00e+00 -1.00e+00]\n",
            "\n",
            "\n",
            "Input matrix b: \n",
            "Enter the number of rows of matrix b:6\n",
            "Enter the entries in a single column (separated by space): \n",
            "6 4 0 0 0 0\n",
            "matrix b is:\n",
            " [ 6.00e+00]\n",
            "[ 4.00e+00]\n",
            "[ 0.00e+00]\n",
            "[ 0.00e+00]\n",
            "[ 0.00e+00]\n",
            "[ 0.00e+00]\n",
            "\n",
            "\n"
          ]
        }
      ]
    },
    {
      "cell_type": "code",
      "source": [
        "def solver():\n",
        "  show_progress = input(\"Do you want to show progress? [Y/N] \")\n",
        "  if show_progress == 'Y' or show_progress == \"Yes\" or show_progress == \"YES\" or show_progress == \"yes\" or show_progress == \"y\":\n",
        "    solvers.options['show_progress'] = True\n",
        "    solution = solvers.lp(matrix_c, matrix_A, matrix_b)\n",
        "    print('Optimal solution:\\n', solution['x'].T)\n",
        "    print('optimal value:\\n',solution['primal objective'])\n",
        "    return solution\n",
        "  else:\n",
        "    solvers.options['show_progress'] = False\n",
        "    solution = solvers.lp(matrix_c, matrix_A, matrix_b)\n",
        "    print('Optimal solution:\\n', solution['x'].T)\n",
        "    print('optimal value:\\n',solution['primal objective'])\n",
        "    return solution\n",
        "\n",
        "result = solver()\n",
        "print(result)"
      ],
      "metadata": {
        "colab": {
          "base_uri": "https://localhost:8080/"
        },
        "id": "kPZuJ0ug1uRH",
        "outputId": "39c9895a-b4d5-427b-845d-e014cb5598d2"
      },
      "execution_count": 3,
      "outputs": [
        {
          "output_type": "stream",
          "name": "stdout",
          "text": [
            "Do you want to show progress? [Y/N] Y\n",
            "     pcost       dcost       gap    pres   dres   k/t\n",
            " 0: -3.2000e+00 -1.4825e+01  1e+01  5e-01  4e+00  1e+00\n",
            " 1: -2.9726e+00 -5.0587e+00  1e+00  1e-01  8e-01  4e-01\n",
            " 2: -2.5691e+00 -2.8798e+00  2e-01  1e-02  1e-01  4e-03\n",
            " 3: -2.5716e+00 -2.5783e+00  4e-03  3e-04  2e-03  2e-04\n",
            " 4: -2.5714e+00 -2.5715e+00  4e-05  3e-06  2e-05  2e-06\n",
            " 5: -2.5714e+00 -2.5714e+00  4e-07  3e-08  2e-07  2e-08\n",
            " 6: -2.5714e+00 -2.5714e+00  4e-09  3e-10  2e-09  2e-10\n",
            "Optimal solution found.\n",
            "Optimal solution:\n",
            " [ 6.07e-11 -6.22e-10  8.57e-01  1.56e-09]\n",
            "\n",
            "optimal value:\n",
            " -2.5714285716321097\n",
            "{'x': <4x1 matrix, tc='d'>, 'y': <0x1 matrix, tc='d'>, 's': <6x1 matrix, tc='d'>, 'z': <6x1 matrix, tc='d'>, 'status': 'optimal', 'gap': 4.328590845452309e-09, 'relative gap': 1.6833408842093216e-09, 'primal objective': -2.5714285716321097, 'dual objective': -2.571428578318077, 'primal infeasibility': 2.6516912730737535e-10, 'dual infeasibility': 2.170094455089397e-09, 'primal slack': 1.5814771829238134e-10, 'dual slack': 4.175241903364395e-10, 'residual as primal infeasibility certificate': None, 'residual as dual infeasibility certificate': None, 'iterations': 6}\n"
          ]
        }
      ]
    }
  ]
}